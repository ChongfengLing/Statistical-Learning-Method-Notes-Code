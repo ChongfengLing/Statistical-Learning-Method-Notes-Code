{
 "cells": [
  {
   "cell_type": "markdown",
   "metadata": {
    "collapsed": true,
    "pycharm": {
     "name": "#%% md\n"
    }
   },
   "source": [
    "# 感知机 Perceptron"
   ]
  },
  {
   "cell_type": "markdown",
   "metadata": {},
   "source": [
    "1. sdasd"
   ]
  },
  {
   "cell_type": "code",
   "execution_count": 28,
   "metadata": {
    "pycharm": {
     "name": "#%%\n"
    }
   },
   "outputs": [
    {
     "name": "stdout",
     "output_type": "stream",
     "text": [
      "Packages loaded\n"
     ]
    }
   ],
   "source": [
    "import numpy as np\n",
    "import pandas as pd\n",
    "import sklearn as sl\n",
    "import matplotlib.pyplot as plt\n",
    "import random\n",
    "import time\n",
    "\n",
    "print('Packages loaded')"
   ]
  },
  {
   "cell_type": "code",
   "execution_count": 31,
   "metadata": {
    "pycharm": {
     "name": "#%%\n"
    }
   },
   "outputs": [],
   "source": [
    "class perceptron:\n",
    "    def __init__(self, X_train, Y_train, learning_rate=0.0001, iter=50, tol=False):\n",
    "        '''\n",
    "        w: \n",
    "        b: \n",
    "        learning_rate:\n",
    "        '''\n",
    "        self.X_train=np.mat(X_train)\n",
    "        self.Y_train=np.may(Y_train)\n",
    "        self.m,self.n=np.shape(self.X_train)\n",
    "        self.w=np.zeros((1,np.shape(self.X_train)[1]))\n",
    "        self.b=0\n",
    "        self.learning_rate=learning_rate\n",
    "        self.iter=iter\n",
    "        \n",
    "    def calculate(self, x, w, b):\n",
    "        return np.dot(x,w)+b\n",
    "    \n",
    "    def train(self):\n",
    "        for i in range(self.iter):\n",
    "            for s in range(self.m):\n",
    "                xi=self.X_train[s]\n",
    "                yi=self.Y_train[s]\n",
    "                if self.calculate(xi,self.w,self.b):\n",
    "                    self.w=self.w+self.learning_rate*yi*xi\n",
    "                    self.b=self.b+self.learning_rate*yi\n",
    "            print('Round %d:%d training' % (i,self.iter))\n",
    "        return 'Training finished'\n",
    "    \n",
    "    def score(self):\n",
    "        pass\n",
    "    "
   ]
  },
  {
   "cell_type": "code",
   "execution_count": null,
   "metadata": {},
   "outputs": [],
   "source": []
  }
 ],
 "metadata": {
  "kernelspec": {
   "display_name": "Python 3",
   "language": "python",
   "name": "python3"
  },
  "language_info": {
   "codemirror_mode": {
    "name": "ipython",
    "version": 3
   },
   "file_extension": ".py",
   "mimetype": "text/x-python",
   "name": "python",
   "nbconvert_exporter": "python",
   "pygments_lexer": "ipython3",
   "version": "3.8.2"
  },
  "latex_envs": {
   "LaTeX_envs_menu_present": true,
   "autoclose": false,
   "autocomplete": true,
   "bibliofile": "biblio.bib",
   "cite_by": "apalike",
   "current_citInitial": 1,
   "eqLabelWithNumbers": true,
   "eqNumInitial": 1,
   "hotkeys": {
    "equation": "Ctrl-E",
    "itemize": "Ctrl-I"
   },
   "labels_anchors": false,
   "latex_user_defs": false,
   "report_style_numbering": false,
   "user_envs_cfg": false
  }
 },
 "nbformat": 4,
 "nbformat_minor": 1
}
