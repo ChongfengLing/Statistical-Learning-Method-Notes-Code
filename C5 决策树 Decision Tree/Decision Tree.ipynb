{
 "cells": [
  {
   "cell_type": "code",
   "execution_count": 4,
   "metadata": {
    "collapsed": true
   },
   "outputs": [
    {
     "name": "stdout",
     "output_type": "stream",
     "text": [
      "Packages loaded\n",
      "Datasets loaded\n"
     ]
    }
   ],
   "source": [
    "import numpy as np\n",
    "import pandas as pd\n",
    "import sklearn as sl\n",
    "from sklearn.datasets import load_iris\n",
    "from sklearn.datasets import load_boston\n",
    "import matplotlib.pyplot as plt\n",
    "import random\n",
    "import time\n",
    "\n",
    "print('Packages loaded')\n",
    "\n",
    "iris=load_iris() # dataset for classification\n",
    "boston=load_boston() # dataset for regression\n",
    "\n",
    "iris\n",
    "boston\n",
    "\n",
    "print('Datasets loaded')"
   ]
  },
  {
   "cell_type": "code",
   "execution_count": 128,
   "outputs": [],
   "source": [
    "class DecisionTree():\n",
    "    def __init__(self,model):\n",
    "        self.model = model\n",
    "    def ID3(self):\n",
    "        pass\n",
    "    def CARTClassification(self):\n",
    "        pass\n",
    "    def CARTRegression(self):\n",
    "        pass\n",
    "\n",
    "    @staticmethod\n",
    "    def entropy(array):\n",
    "        \"\"\"\n",
    "        calculate bit entropy\n",
    "        :param array: 1-D numpy array\n",
    "        :return: entropy in bit\n",
    "        \"\"\"\n",
    "        count_array = np.unique(array,return_counts=True)[1]\n",
    "        probability=count_array/array.size\n",
    "        h_p = np.dot(-probability,np.log2(probability))\n",
    "        return h_p\n",
    "\n",
    "    @staticmethod\n",
    "    def conditional_entropy(Y, X):\n",
    "        \"\"\"\n",
    "        get conditional entropy H(Y|X)\n",
    "        :param Y: random variable, 1-D numpy array\n",
    "        :param X: given random variable, 1-D numpy array\n",
    "        :return:\n",
    "        \"\"\"\n",
    "        Y = np.array(Y)\n",
    "        X = np.array(X)\n",
    "        hY_X = 0\n",
    "        X_value,X_count=np.unique(X,return_counts=True)\n",
    "        for xi in X_value:\n",
    "            index = np.argwhere(X == xi) # get index of X=xi\n",
    "            p_xi = index.size/X.size # P(X=xi)\n",
    "            Yi = Y[index]# get yi given xi\n",
    "            hYi_xi = DecisionTree.entropy(np.array(Yi)) # H(Y|X=xi)\n",
    "            hY_X += p_xi * hYi_xi\n",
    "        return hY_X\n",
    "\n",
    "    @staticmethod\n",
    "    def info_gain(Y,X):\n",
    "        print(DecisionTree.conditional_entropy(Y,X))\n",
    "        return DecisionTree.entropy(Y) - DecisionTree.conditional_entropy(Y,X)"
   ],
   "metadata": {
    "collapsed": false,
    "pycharm": {
     "name": "#%%\n"
    }
   }
  },
  {
   "cell_type": "code",
   "execution_count": 129,
   "outputs": [
    {
     "name": "stdout",
     "output_type": "stream",
     "text": [
      "decision tree\n"
     ]
    }
   ],
   "source": [
    "trainSet=iris['data'] # 150*4\n",
    "label=iris['target']\n",
    "model=DecisionTree('decision tree')\n",
    "print(model.model)"
   ],
   "metadata": {
    "collapsed": false,
    "pycharm": {
     "name": "#%%\n"
    }
   }
  },
  {
   "cell_type": "code",
   "execution_count": 130,
   "outputs": [
    {
     "data": {
      "text/plain": "array([3. , 3.1, 3.2, 3.3, 3.4, 3.5])"
     },
     "execution_count": 130,
     "metadata": {},
     "output_type": "execute_result"
    }
   ],
   "source": [
    "test=trainSet.T[0]\n",
    "a=np.argwhere(test==5)\n",
    "test1=trainSet.T[1]\n",
    "a=np.unique(test1[a])\n",
    "a"
   ],
   "metadata": {
    "collapsed": false,
    "pycharm": {
     "name": "#%%\n"
    }
   }
  },
  {
   "cell_type": "code",
   "execution_count": 131,
   "outputs": [
    {
     "name": "stdout",
     "output_type": "stream",
     "text": [
      "0.6079610319175832\n"
     ]
    },
    {
     "data": {
      "text/plain": "0.36298956253708536"
     },
     "execution_count": 131,
     "metadata": {},
     "output_type": "execute_result"
    }
   ],
   "source": [
    "X = np.array([0,1,1,0,0,0,1,1,2,2,2,1,1,2,0])\n",
    "Y = np.array([0,0,1,1,0,0,0,1,1,1,1,1,1,1,0])\n",
    "DecisionTree.info_gain(Y,X)\n",
    "# DecisionTree.entropy(Y)\n"
   ],
   "metadata": {
    "collapsed": false,
    "pycharm": {
     "name": "#%%\n"
    }
   }
  },
  {
   "cell_type": "code",
   "execution_count": null,
   "outputs": [],
   "source": [
    "\n"
   ],
   "metadata": {
    "collapsed": false,
    "pycharm": {
     "name": "#%%\n"
    }
   }
  }
 ],
 "metadata": {
  "kernelspec": {
   "display_name": "Python 3",
   "language": "python",
   "name": "python3"
  },
  "language_info": {
   "codemirror_mode": {
    "name": "ipython",
    "version": 2
   },
   "file_extension": ".py",
   "mimetype": "text/x-python",
   "name": "python",
   "nbconvert_exporter": "python",
   "pygments_lexer": "ipython2",
   "version": "2.7.6"
  }
 },
 "nbformat": 4,
 "nbformat_minor": 0
}