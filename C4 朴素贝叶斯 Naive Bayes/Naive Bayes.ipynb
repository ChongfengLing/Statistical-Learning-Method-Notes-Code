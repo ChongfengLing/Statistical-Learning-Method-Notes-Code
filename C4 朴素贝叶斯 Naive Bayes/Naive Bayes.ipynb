{
 "cells": [
  {
   "cell_type": "code",
   "execution_count": 1,
   "metadata": {
    "collapsed": true
   },
   "outputs": [
    {
     "name": "stdout",
     "output_type": "stream",
     "text": [
      "Packages loaded\n"
     ]
    }
   ],
   "source": [
    "import numpy as np\n",
    "import pandas as pd\n",
    "import sklearn as sl\n",
    "import matplotlib.pyplot as plt\n",
    "import random\n",
    "import time\n",
    "\n",
    "print('Packages loaded')"
   ]
  },
  {
   "cell_type": "code",
   "execution_count": 61,
   "outputs": [],
   "source": [
    "class NaiveBayes:\n",
    "    def __init__(self):\n",
    "        self.model='Naive Bayes'\n",
    "\n",
    "    def predict(self, Py, Pxi_y, x):\n",
    "        \"\"\"\n",
    "        :param Py: 先验概率\n",
    "        :param Pxi_y: 条件概率\n",
    "        :param x: test array\n",
    "        :return: 通过极大似然法得出最大概率的标签\n",
    "        \"\"\"\n",
    "        (labelNumber,featureNumber,features)=Pxi_y.shape\n",
    "        # p存放所有的似然\n",
    "        p=Py\n",
    "        for i in range(labelNumber):\n",
    "            sum = 0\n",
    "            for j in range(featureNumber):\n",
    "                sum += Pxi_y[i][j][x[j]] # 因为转化成了log，所以累乘变累加\n",
    "            p[i] += sum\n",
    "        return np.argmax(p)\n",
    "        \n",
    "\n",
    "    def getAllProbability(self, labelArray, labelNumber, trainArray, featureNumber, features, para=1):\n",
    "        \"\"\"\n",
    "        :param labelArray: [int,int,...,int] 1*n\n",
    "        :param labelNumber: 一共有N个标签\n",
    "        :param trainArray: train data, ~*m\n",
    "        :param featureNumber: 一共有m个特征标签\n",
    "        :param features: int k, 对第m个特征标签，有k_m个特征。\n",
    "        :param para: lambda\n",
    "        :return: 先验概率Py, 条件概率Pxi_y\n",
    "        \"\"\"\n",
    "        '''\n",
    "        目前（没有完善load function）对于输入的形式非常的苛刻，也出现了重复的参数，日后完善。\n",
    "        example:\n",
    "        trainArray=[[0,0],[0,1],[0,1],[0,0],[0,0],[1,0],[1,1],[1,1],[1,2],[1,2],[2,2],[2,1],[2,1],[2,2],[2,2]]\n",
    "        trainArray=np.asarray(trainArray)\n",
    "        featureNumber=2\n",
    "        features=3\n",
    "        labelArray=[0,0,1,1,0,0,0,1,1,1,1,1,1,1,0]\n",
    "        labelArray=np.asarray(labelArray)\n",
    "        labelNumber=2\n",
    "        '''\n",
    "        # 一共有N个标签\n",
    "        Py = np.zeros((labelNumber, 1))\n",
    "        # 对标签为y，特征为m，第？个特征取值\n",
    "        Pxi_y = np.zeros((labelNumber, featureNumber, features))\n",
    "\n",
    "        # 计算先验概率Py\n",
    "        for i in range(labelNumber):\n",
    "            numerator = np.sum(labelArray==i) + para\n",
    "            denominator = len(labelArray) + para * labelNumber\n",
    "            Py[i] = numerator/denominator\n",
    "        Py = np.log(Py) # 取对数加快运算\n",
    "\n",
    "        # 计算条件概率Pxi_y\n",
    "        (a,b) = trainArray.shape # a:几条数据  b:几个特征\n",
    "\n",
    "        for i in range(a): # 第几条数据，选取他们的label和train data array\n",
    "            label = labelArray[i]\n",
    "            x=trainArray[i]\n",
    "\n",
    "            for j in range(featureNumber): # 对x的每一个标签上的值，出现一次加一次\n",
    "                Pxi_y[label][j][x[j]] +=1\n",
    "\n",
    "        for label in range(labelNumber): # 得到次数后计算概念\n",
    "            for i in range(featureNumber):\n",
    "                denominator = np.sum(Pxi_y[label][i]) + features * para\n",
    "                for j in range(features):\n",
    "                    numerator = Pxi_y[label][i][j] + para\n",
    "                    Pxi_y[label][i][j]=np.log(numerator/denominator)\n",
    "\n",
    "        return Py, Pxi_y\n",
    "\n",
    "    def loadData(self):\n",
    "        pass\n",
    "\n",
    "    def modelTest(self):\n",
    "        pass"
   ],
   "metadata": {
    "collapsed": false,
    "pycharm": {
     "name": "#%%\n"
    }
   }
  },
  {
   "cell_type": "code",
   "execution_count": 64,
   "outputs": [
    {
     "data": {
      "text/plain": "0"
     },
     "execution_count": 64,
     "metadata": {},
     "output_type": "execute_result"
    }
   ],
   "source": [
    "trainArray=[[0,0],[0,1],[0,1],[0,0],[0,0],[1,0],[1,1],[1,1],[1,2],[1,2],[2,2],[2,1],[2,1],[2,2],[2,2]]\n",
    "trainArray=np.asarray(trainArray)\n",
    "featureNumber=2\n",
    "features=3\n",
    "labelArray=[0,0,1,1,0,0,0,1,1,1,1,1,1,1,0]\n",
    "labelArray=np.asarray(labelArray)\n",
    "labelNumber=2\n",
    "model=NaiveBayes()\n",
    "a,b=model.getAllProbability(labelArray=labelArray,labelNumber=labelNumber,trainArray=trainArray,featureNumber=featureNumber,features=features)\n",
    "c=model.predict(a,b,[0,0])\n",
    "c"
   ],
   "metadata": {
    "collapsed": false,
    "pycharm": {
     "name": "#%%\n"
    }
   }
  }
 ],
 "metadata": {
  "kernelspec": {
   "display_name": "Python 3",
   "language": "python",
   "name": "python3"
  },
  "language_info": {
   "codemirror_mode": {
    "name": "ipython",
    "version": 2
   },
   "file_extension": ".py",
   "mimetype": "text/x-python",
   "name": "python",
   "nbconvert_exporter": "python",
   "pygments_lexer": "ipython2",
   "version": "2.7.6"
  }
 },
 "nbformat": 4,
 "nbformat_minor": 0
}