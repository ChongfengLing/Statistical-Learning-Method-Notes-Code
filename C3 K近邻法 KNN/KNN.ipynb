{
 "cells": [
  {
   "cell_type": "markdown",
   "metadata": {
    "collapsed": true,
    "pycharm": {
     "name": "#%% md\n"
    }
   },
   "source": [
    "# K-nearest neighbor"
   ]
  },
  {
   "cell_type": "code",
   "execution_count": 190,
   "outputs": [
    {
     "name": "stdout",
     "output_type": "stream",
     "text": [
      "Packages loaded\n"
     ]
    }
   ],
   "source": [
    "import numpy as np\n",
    "import pandas as pd\n",
    "import sklearn as sl\n",
    "import matplotlib.pyplot as plt\n",
    "import random\n",
    "import time\n",
    "\n",
    "print('Packages loaded')\n"
   ],
   "metadata": {
    "collapsed": false,
    "pycharm": {
     "name": "#%%\n"
    }
   }
  },
  {
   "cell_type": "code",
   "execution_count": 191,
   "outputs": [],
   "source": [
    "class KNN:\n",
    "    def __init__(self, train_set, label_set):\n",
    "        \"\"\"\n",
    "        :param train_set: m*n ndarray, m:dims, n:train points\n",
    "        :param label_set: 1*n int ndarray\n",
    "        \"\"\"\n",
    "        self.train_set = train_set\n",
    "        self.label_set = label_set\n",
    "        self.m, self.n = self.train_set.shape\n",
    "\n",
    "    def knn_naive(self, test_set, k=1,p=2):\n",
    "        \"\"\"\n",
    "        :param test_set: m*1 ndarray, m:dims\n",
    "        :param k: k nearest neighbor\n",
    "        :param p: order of norm\n",
    "        :return:\n",
    "        \"\"\"\n",
    "        (m,n)=test_set.shape\n",
    "        final=[-1]*n\n",
    "\n",
    "        for i in range(n):\n",
    "            test_point=test_set.T[i].T\n",
    "            test_point=test_point.reshape([m,1])\n",
    "            distance=np.linalg.norm(self.train_set-test_point,ord=p,axis=0)\n",
    "            nearestK=np.argsort(distance)[:k]\n",
    "            labelList=[0]*(max(self.label_set[0]) + 1)\n",
    "            for index in nearestK:\n",
    "                labelList[int(self.label_set[0][index])] +=1\n",
    "                point_label=labelList.index(max(labelList))\n",
    "            final[i]=point_label\n",
    "        return final\n",
    "\n",
    "    def knn_kdtree(self):\n",
    "        pass\n",
    "\n",
    "    def score(self):\n",
    "        pass\n",
    "\n",
    "    def plot(self, points=None):\n",
    "        if self.m != 2:\n",
    "            return \"Unable to draw a picture\"\n",
    "\n",
    "\n"
   ],
   "metadata": {
    "collapsed": false,
    "pycharm": {
     "name": "#%%\n"
    }
   }
  },
  {
   "cell_type": "code",
   "execution_count": 192,
   "outputs": [
    {
     "data": {
      "text/plain": "[0, 1]"
     },
     "execution_count": 192,
     "metadata": {},
     "output_type": "execute_result"
    }
   ],
   "source": [],
   "metadata": {
    "collapsed": false,
    "pycharm": {
     "name": "#%%\n"
    }
   }
  }
 ],
 "metadata": {
  "kernelspec": {
   "display_name": "Python 3",
   "language": "python",
   "name": "python3"
  },
  "language_info": {
   "codemirror_mode": {
    "name": "ipython",
    "version": 2
   },
   "file_extension": ".py",
   "mimetype": "text/x-python",
   "name": "python",
   "nbconvert_exporter": "python",
   "pygments_lexer": "ipython2",
   "version": "2.7.6"
  }
 },
 "nbformat": 4,
 "nbformat_minor": 0
}