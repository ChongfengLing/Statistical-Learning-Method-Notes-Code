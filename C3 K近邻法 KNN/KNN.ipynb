{
 "cells": [
  {
   "cell_type": "markdown",
   "metadata": {
    "collapsed": true,
    "pycharm": {
     "name": "#%% md\n"
    }
   },
   "source": [
    "# K-nearest neighbors"
   ]
  },
  {
   "cell_type": "code",
   "execution_count": 1,
   "metadata": {
    "pycharm": {
     "name": "#%%\n"
    }
   },
   "outputs": [
    {
     "name": "stdout",
     "output_type": "stream",
     "text": [
      "Packages loaded\n"
     ]
    }
   ],
   "source": [
    "import numpy as np\n",
    "import pandas as pd\n",
    "import sklearn as sl\n",
    "import matplotlib.pyplot as plt\n",
    "import random\n",
    "import time\n",
    "\n",
    "print('Packages loaded')\n"
   ]
  },
  {
   "cell_type": "code",
   "execution_count": 2,
   "metadata": {
    "code_folding": [],
    "pycharm": {
     "name": "#%%\n"
    }
   },
   "outputs": [],
   "source": [
    "class KNN:\n",
    "    def __init__(self, train_set, label_set):\n",
    "        \"\"\"\n",
    "        :param train_set: m*n ndarray, m:dims, n:train points\n",
    "        :param label_set: 1*n int ndarray and from 0 to n-1\n",
    "        \"\"\"\n",
    "        self.train_set = train_set\n",
    "        self.label_set = label_set\n",
    "        self.m, self.n = self.train_set.shape\n",
    "\n",
    "    def knn_naive(self, test_set, k=1,p=2):\n",
    "        \"\"\"\n",
    "        :param test_set: m*n ndarray, m:dims, n:test points\n",
    "        :param k: k nearest neighbor\n",
    "        :param p: order of norm\n",
    "        :return: 1*n list for n points\n",
    "        \"\"\"\n",
    "        (m,n)=test_set.shape\n",
    "        # 有几个点，输出对于shape的list\n",
    "        final=[-1]*n\n",
    "\n",
    "        for i in range(n):\n",
    "            # 转置后取点再转置\n",
    "            test_point=test_set.T[i].T\n",
    "            # 有些可能是(m,)的ndarray\n",
    "            test_point=test_point.reshape([m,1])\n",
    "            # 计算距离\n",
    "            distance=np.linalg.norm(self.train_set-test_point,ord=p,axis=0)\n",
    "            # 最近k个点的index\n",
    "            nearestK=np.argsort(distance)[:k]\n",
    "            # label是0，1，2，...的顺序，存储对应label出现的总次数\n",
    "            labelList=[0]*(max(self.label_set) + 1)\n",
    "            \n",
    "            for index in nearestK:\n",
    "                labelList[int(self.label_set[index])] +=1\n",
    "                point_label=labelList.index(max(labelList))\n",
    "            final[i]=point_label\n",
    "        return final\n",
    "\n",
    "    def knn_kdtree(self):\n",
    "        pass\n",
    "\n",
    "    def score(self):\n",
    "        pass\n",
    "\n",
    "    def plot(self, points=None):\n",
    "        '''\n",
    "        画不同k从而分割成不同子%tb域的图\n",
    "        画结果图\n",
    "        '''\n",
    "        if self.m != 2:\n",
    "            return \"Unable to draw a picture\""
   ]
  },
  {
   "cell_type": "markdown",
   "metadata": {
    "pycharm": {
     "name": "#%%\n"
    }
   },
   "source": [
    "## Example (iris)\n",
    "### dataset informations and visualization"
   ]
  },
  {
   "cell_type": "code",
   "execution_count": 3,
   "outputs": [
    {
     "name": "stdout",
     "output_type": "stream",
     "text": [
      "df =\n",
      "      sepal length  sepal width  petal length  petal width  label\n",
      "0             5.1          3.5           1.4          0.2      0\n",
      "1             4.9          3.0           1.4          0.2      0\n",
      "2             4.7          3.2           1.3          0.2      0\n",
      "3             4.6          3.1           1.5          0.2      0\n",
      "4             5.0          3.6           1.4          0.2      0\n",
      "..            ...          ...           ...          ...    ...\n",
      "145           6.7          3.0           5.2          2.3      2\n",
      "146           6.3          2.5           5.0          1.9      2\n",
      "147           6.5          3.0           5.2          2.0      2\n",
      "148           6.2          3.4           5.4          2.3      2\n",
      "149           5.9          3.0           5.1          1.8      2\n",
      "\n",
      "[150 rows x 5 columns]\n",
      "\n",
      "dataset =  [[5.1 3.5 1.4 0.2]\n",
      " [4.9 3.  1.4 0.2]\n",
      " [4.7 3.2 1.3 0.2]\n",
      " [4.6 3.1 1.5 0.2]\n",
      " [5.  3.6 1.4 0.2]\n",
      " [5.4 3.9 1.7 0.4]\n",
      " [4.6 3.4 1.4 0.3]\n",
      " [5.  3.4 1.5 0.2]\n",
      " [4.4 2.9 1.4 0.2]\n",
      " [4.9 3.1 1.5 0.1]] \n",
      "labelset =  [0 0 0 0 0 0 0 0 0 0] \n",
      "\n"
     ]
    },
    {
     "data": {
      "text/plain": "<Figure size 432x288 with 1 Axes>",
      "image/png": "[encoded data removed]"
     },
     "metadata": {
      "needs_background": "light"
     },
     "output_type": "display_data"
    }
   ],
   "source": [
    "from sklearn.datasets import load_iris\n",
    "\n",
    "iris=load_iris()\n",
    "df=pd.DataFrame(iris.data,columns=iris.feature_names)\n",
    "df['label']=iris.target\n",
    "df.columns = ['sepal length', 'sepal width', 'petal length', 'petal width', 'label']\n",
    "print('df =\\n',df)\n",
    "\n",
    "plt.scatter(df[:50]['sepal length'], df[:50]['sepal width'], label='0')\n",
    "plt.scatter(df[50:100]['sepal length'], df[50:100]['sepal width'], label='1')\n",
    "plt.scatter(df[100:]['sepal length'], df[100:]['sepal width'], label='2')\n",
    "plt.xlabel('sepal length')\n",
    "plt.ylabel('sepal width')\n",
    "plt.legend()\n",
    "\n",
    "(dataset,labelset)=load_iris(return_X_y=True)\n",
    "print('\\ndataset = ',dataset[:10],'\\nlabelset = ',labelset[:10],'\\n')"
   ],
   "metadata": {
    "collapsed": false,
    "pycharm": {
     "name": "#%%\n"
    }
   }
  },
  {
   "cell_type": "code",
   "execution_count": 4,
   "outputs": [
    {
     "name": "stdout",
     "output_type": "stream",
     "text": [
      "labels for each n test point:  [0, 2, 1]\n"
     ]
    }
   ],
   "source": [
    "model=KNN(dataset.T,labelset.T)\n",
    "test=np.array([[1,1,1,1],[4,2,6,4],[6,8,4,3]])\n",
    "print('labels for each n test point: ',model.knn_naive(test.T))\n"
   ],
   "metadata": {
    "collapsed": false,
    "pycharm": {
     "name": "#%%\n"
    }
   }
  },
  {
   "cell_type": "code",
   "execution_count": 5,
   "outputs": [
    {
     "name": "stdout",
     "output_type": "stream",
     "text": [
      "labels (by sklearn) for each n test point:  [0 2 1]\n"
     ]
    }
   ],
   "source": [
    "from sklearn.neighbors import KNeighborsClassifier\n",
    "\n",
    "clf_sk = KNeighborsClassifier(n_neighbors=1)\n",
    "clf_sk.fit(dataset, labelset)\n",
    "print('labels (by sklearn) for each n test point: ',clf_sk.predict(test))\n"
   ],
   "metadata": {
    "collapsed": false,
    "pycharm": {
     "name": "#%%\n"
    }
   }
  },
  {
   "cell_type": "code",
   "execution_count": 3,
   "metadata": {},
   "outputs": [
    {
     "name": "stdout",
     "output_type": "stream",
     "text": [
      "df =\n",
      "      sepal length  sepal width  petal length  petal width  label\n",
      "0             5.1          3.5           1.4          0.2      0\n",
      "1             4.9          3.0           1.4          0.2      0\n",
      "2             4.7          3.2           1.3          0.2      0\n",
      "3             4.6          3.1           1.5          0.2      0\n",
      "4             5.0          3.6           1.4          0.2      0\n",
      "..            ...          ...           ...          ...    ...\n",
      "145           6.7          3.0           5.2          2.3      2\n",
      "146           6.3          2.5           5.0          1.9      2\n",
      "147           6.5          3.0           5.2          2.0      2\n",
      "148           6.2          3.4           5.4          2.3      2\n",
      "149           5.9          3.0           5.1          1.8      2\n",
      "\n",
      "[150 rows x 5 columns]\n",
      "\n",
      "dataset =  [[5.1 3.5 1.4 0.2]\n",
      " [4.9 3.  1.4 0.2]\n",
      " [4.7 3.2 1.3 0.2]\n",
      " [4.6 3.1 1.5 0.2]\n",
      " [5.  3.6 1.4 0.2]\n",
      " [5.4 3.9 1.7 0.4]\n",
      " [4.6 3.4 1.4 0.3]\n",
      " [5.  3.4 1.5 0.2]\n",
      " [4.4 2.9 1.4 0.2]\n",
      " [4.9 3.1 1.5 0.1]] \n",
      "labelset =  [0 0 0 0 0 0 0 0 0 0] \n",
      "\n"
     ]
    },
    {
     "data": {
      "image/png": "[encoded data removed]",
      "text/plain": [
       "<Figure size 432x288 with 1 Axes>"
      ]
     },
     "metadata": {
      "needs_background": "light"
     },
     "output_type": "display_data"
    }
   ],
   "source": [
    "from sklearn.neighbors import KNeighborsClassifier\n",
    "\n",
    "clf_sk = KNeighborsClassifier(n_neighbors=1)\n",
    "clf_sk.fit(dataset, labelset)\n",
    "print('labels (by sklearn) for each n test point: ',clf_sk.predict(test))\n"
   ]
  },
  {
   "cell_type": "code",
   "execution_count": 4,
   "metadata": {},
   "outputs": [
    {
     "name": "stdout",
     "output_type": "stream",
     "text": [
      "labels for each n test point:  [0, 2, 1]\n"
     ]
    }
   ],
   "source": [
    "model=KNN(dataset.T,labelset.T)\n",
    "test=np.array([[1,1,1,1],[4,2,6,4],[6,8,4,3]])\n",
    "print('labels for each n test point: ',model.knn_naive(test.T))\n"
   ]
  },
  {
   "cell_type": "code",
   "execution_count": 5,
   "metadata": {},
   "outputs": [
    {
     "name": "stdout",
     "output_type": "stream",
     "text": [
      "labels (by sklearn) for each n test point:  [0 2 1]\n"
     ]
    }
   ],
   "source": [
    "from sklearn.neighbors import KNeighborsClassifier\n",
    "\n",
    "clf_sk = KNeighborsClassifier(n_neighbors=1)\n",
    "clf_sk.fit(dataset, labelset)\n",
    "print('labels (by sklearn) for each n test point: ',clf_sk.predict(test))\n"
   ]
  }
 ],
 "metadata": {
  "kernelspec": {
   "display_name": "Python 3",
   "language": "python",
   "name": "python3"
  },
  "language_info": {
   "codemirror_mode": {
    "name": "ipython",
    "version": 3
   },
   "file_extension": ".py",
   "mimetype": "text/x-python",
   "name": "python",
   "nbconvert_exporter": "python",
   "pygments_lexer": "ipython3",
   "version": "3.8.2"
  },
  "latex_envs": {
   "LaTeX_envs_menu_present": true,
   "autoclose": false,
   "autocomplete": true,
   "bibliofile": "biblio.bib",
   "cite_by": "apalike",
   "current_citInitial": 1,
   "eqLabelWithNumbers": true,
   "eqNumInitial": 1,
   "hotkeys": {
    "equation": "Ctrl-E",
    "itemize": "Ctrl-I"
   },
   "labels_anchors": false,
   "latex_user_defs": false,
   "report_style_numbering": false,
   "user_envs_cfg": false
  }
 },
 "nbformat": 4,
 "nbformat_minor": 1
}